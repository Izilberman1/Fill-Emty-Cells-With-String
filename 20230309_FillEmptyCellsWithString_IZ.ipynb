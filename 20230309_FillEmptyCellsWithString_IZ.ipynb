{
 "cells": [
  {
   "cell_type": "code",
   "execution_count": 98,
   "id": "0627bce6",
   "metadata": {},
   "outputs": [],
   "source": [
    "import pandas as pd\n",
    "import numpy as np"
   ]
  },
  {
   "cell_type": "code",
   "execution_count": 99,
   "id": "03601fcf",
   "metadata": {},
   "outputs": [],
   "source": [
    "df=pd.read_excel(r\"C:\\Users\\16476\\Desktop\\Itamar's Folder\\BCIA Class Notes\\RSC885 Capstone Project\\20230308_OntarioMSBsAnalysis_IZ.xlsx\")\n",
    "\n",
    "df[\"ExpirationDate\"].fillna(\"N/A\", inplace = True)\n",
    "df[\"Expiration Year\"].fillna(\"N/A\", inplace = True)\n",
    "df[\"CessationDate\"].fillna(\"N/A\", inplace = True)\n",
    "df[\"Cessation Year\"].fillna(\"N/A\", inplace = True)\n",
    "df[\"Name\"].fillna(\"N/A\", inplace = True)\n",
    "\n",
    "df.to_excel(r\"C:\\Users\\16476\\Desktop\\Itamar's Folder\\BCIA Class Notes\\RSC885 Capstone Project\\20230309_OntarioMSBsAnalysis_IZ.xlsx\")"
   ]
  },
  {
   "cell_type": "code",
   "execution_count": null,
   "id": "01c4ee83",
   "metadata": {},
   "outputs": [],
   "source": []
  }
 ],
 "metadata": {
  "kernelspec": {
   "display_name": "Python 3 (ipykernel)",
   "language": "python",
   "name": "python3"
  },
  "language_info": {
   "codemirror_mode": {
    "name": "ipython",
    "version": 3
   },
   "file_extension": ".py",
   "mimetype": "text/x-python",
   "name": "python",
   "nbconvert_exporter": "python",
   "pygments_lexer": "ipython3",
   "version": "3.9.13"
  }
 },
 "nbformat": 4,
 "nbformat_minor": 5
}
